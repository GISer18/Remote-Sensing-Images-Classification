{
 "cells": [
  {
   "cell_type": "code",
   "execution_count": null,
   "metadata": {},
   "outputs": [],
   "source": [
    "import h5py\n",
    "import numpy as np\n",
    "import matplotlib.pyplot as plt\n",
    "%matplotlib inline"
   ]
  },
  {
   "cell_type": "code",
   "execution_count": null,
   "metadata": {},
   "outputs": [],
   "source": [
    "#aid no dp\n",
    "f = h5py.File('AID/aid_result/aid_inceptionv3/no_dp/performance/inceptionv3_no_dp_loss_valloss_acc_valacc.h5', 'r')\n",
    "#loss = f['loss'][:]\n",
    "#val_loss = f['val_loss'][:]\n",
    "acc = f['acc'][:]\n",
    "val_acc = f['val_acc'][:]\n",
    "f.close()"
   ]
  },
  {
   "cell_type": "code",
   "execution_count": null,
   "metadata": {},
   "outputs": [],
   "source": [
    "#aid dp 0.2\n",
    "f1 = h5py.File('AID/aid_result/aid_inceptionv3/dp_0.2/performance/inceptionv3_dp_0.2_loss_valloss_acc_valacc.h5', 'r')\n",
    "#loss = f['loss'][:]\n",
    "#val_loss = f['val_loss'][:]\n",
    "acc1 = f1['acc'][:]\n",
    "val_acc1 = f1['val_acc'][:]\n",
    "f1.close()"
   ]
  },
  {
   "cell_type": "code",
   "execution_count": null,
   "metadata": {},
   "outputs": [],
   "source": [
    "#aid dp 0.4\n",
    "f2 = h5py.File('AID/aid_result/aid_inceptionv3/dp_0.4/performance/inceptionv3_dp_0.4_loss_valloss_acc_valacc.h5', 'r')\n",
    "#loss = f['loss'][:]\n",
    "#val_loss = f['val_loss'][:]\n",
    "acc2 = f2['acc'][:]\n",
    "val_acc2 = f2['val_acc'][:]\n",
    "f2.close()"
   ]
  },
  {
   "cell_type": "code",
   "execution_count": null,
   "metadata": {},
   "outputs": [],
   "source": [
    "#nwpu no dp\n",
    "f3 = h5py.File('NWPU-RESISC45/nwpu_result/resnet50/no_dp/performance/nwpu_resnet50_no_dp_metrics_loss_valloss_acc_valacc.h5', 'r')\n",
    "#loss = f['loss'][:]\n",
    "#val_loss = f['val_loss'][:]\n",
    "acc3 = f3['acc'][:]\n",
    "val_acc3 = f3['val_acc'][:]\n",
    "f3.close()"
   ]
  },
  {
   "cell_type": "code",
   "execution_count": null,
   "metadata": {},
   "outputs": [],
   "source": [
    "#nwpu dp 0.2\n",
    "f4 = h5py.File('NWPU-RESISC45/nwpu_result/resnet50/dp_0.2/performance/nwpu_resnet50_dp_0.2_metrics_loss_valloss_acc_valacc.h5', 'r')\n",
    "#loss = f['loss'][:]\n",
    "#val_loss = f['val_loss'][:]\n",
    "acc4 = f4['acc'][:]\n",
    "val_acc4 = f4['val_acc'][:]\n",
    "f4.close()"
   ]
  },
  {
   "cell_type": "code",
   "execution_count": null,
   "metadata": {},
   "outputs": [],
   "source": [
    "#nwpu dp 0.4\n",
    "f5 = h5py.File('NWPU-RESISC45/nwpu_result/resnet50/dp_0.4/performance/nwpu_resnet50_dp_0.4_metrics_loss_valloss_acc_valacc.h5', 'r')\n",
    "#loss = f['loss'][:]\n",
    "#val_loss = f['val_loss'][:]\n",
    "acc5 = f5['acc'][:]\n",
    "val_acc5 = f5['val_acc'][:]\n",
    "f5.close()"
   ]
  },
  {
   "cell_type": "code",
   "execution_count": null,
   "metadata": {},
   "outputs": [],
   "source": [
    "fig = plt.figure(figsize=(12,10))\n",
    "\n",
    "# aid acc\n",
    "figure1 = fig.add_subplot(221)\n",
    "figure1.plot(acc,label='dropout 0.0',color='b')\n",
    "figure1.plot(acc1,label='dropout 0.2',linestyle = \"-.\",color='g')\n",
    "figure1.plot(acc2,label='dropout 0.4',linestyle = \"--\",color='y')\n",
    "figure1.set_xlabel('(a) - Epochs')\n",
    "figure1.set_ylabel('Accuracy')\n",
    "figure1.grid(True, linestyle = \"--\", color = \"gray\", linewidth = \"0.5\")\n",
    "figure1.legend()\n",
    "\n",
    "# aid val_acc\n",
    "figure2 = fig.add_subplot(222)\n",
    "figure2.plot(val_acc,label='dropout 0.0',color='b')\n",
    "figure2.plot(val_acc1,label='dropout 0.2',linestyle = \"-.\",color='g')\n",
    "figure2.plot(val_acc2,label='dropout 0.4',linestyle = \"--\",color='y')\n",
    "figure2.set_xlabel('(b) - Epochs')\n",
    "figure2.set_ylabel('Validation Accuracy')\n",
    "figure2.grid(True, linestyle = \"--\", color = \"gray\", linewidth = \"0.5\")\n",
    "figure2.legend()\n",
    "\n",
    "# nwpu acc\n",
    "figure3 = fig.add_subplot(223)\n",
    "figure3.plot(acc3,label='dropout 0.0',color='b')\n",
    "figure3.plot(acc4,label='dropout 0.2',linestyle = \"-.\",color='g')\n",
    "figure3.plot(acc5,label='dropout 0.4',linestyle = \"--\",color='y')\n",
    "figure3.set_xlabel('(c) - Epochs')\n",
    "figure3.set_ylabel('Accuracy')\n",
    "figure3.grid(True, linestyle = \"--\", color = \"gray\", linewidth = \"0.5\")\n",
    "figure3.legend()\n",
    "\n",
    "# nwpu val_acc\n",
    "figure4 = fig.add_subplot(224)\n",
    "figure4.plot(val_acc3,label='dropout 0.0',color='b')\n",
    "figure4.plot(val_acc4,label='dropout 0.2',linestyle = \"-.\",color='g')\n",
    "figure4.plot(val_acc5,label='dropout 0.4',linestyle = \"--\",color='y')\n",
    "figure4.set_xlabel('(d) - Epochs')\n",
    "figure4.set_ylabel('Validation Accuracy')\n",
    "figure4.grid(True, linestyle = \"--\", color = \"gray\", linewidth = \"0.5\")\n",
    "figure4.legend()\n",
    "\n",
    "#plt.savefig(\"compare_dp.png\",dpi=200)"
   ]
  },
  {
   "cell_type": "code",
   "execution_count": null,
   "metadata": {},
   "outputs": [],
   "source": []
  }
 ],
 "metadata": {
  "kernelspec": {
   "display_name": "Python 3",
   "language": "python",
   "name": "python3"
  },
  "language_info": {
   "codemirror_mode": {
    "name": "ipython",
    "version": 3
   },
   "file_extension": ".py",
   "mimetype": "text/x-python",
   "name": "python",
   "nbconvert_exporter": "python",
   "pygments_lexer": "ipython3",
   "version": "3.6.5"
  }
 },
 "nbformat": 4,
 "nbformat_minor": 2
}
