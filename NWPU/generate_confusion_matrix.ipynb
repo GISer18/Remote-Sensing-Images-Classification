{
 "cells": [
  {
   "cell_type": "code",
   "execution_count": null,
   "metadata": {},
   "outputs": [],
   "source": [
    "import numpy as np\n",
    "import h5py\n",
    "import itertools\n",
    "import matplotlib.pyplot as plt\n",
    "from keras.models import Model, load_model\n",
    "from sklearn.metrics import confusion_matrix\n",
    "from decimal import *\n",
    "\n",
    "%matplotlib inline"
   ]
  },
  {
   "cell_type": "code",
   "execution_count": null,
   "metadata": {},
   "outputs": [],
   "source": [
    "labels = h5py.File('nwpu_result/xception/dp_0.2/confusion_matrix/nwpu_xception_dp_0.2_predict_true_label_for_confusion_matrix.h5', 'r')"
   ]
  },
  {
   "cell_type": "code",
   "execution_count": null,
   "metadata": {
    "collapsed": true
   },
   "outputs": [],
   "source": [
    "predict_label = labels['predict_label'][:]\n",
    "true_label = labels['true_label'][:]"
   ]
  },
  {
   "cell_type": "code",
   "execution_count": null,
   "metadata": {},
   "outputs": [],
   "source": [
    "predict_label.shape"
   ]
  },
  {
   "cell_type": "code",
   "execution_count": null,
   "metadata": {
    "collapsed": true
   },
   "outputs": [],
   "source": [
    "labels = ['0 - Airplane ','1 - Airport ','2 - Baseball Diamond ','3 - Basketball Court ','4 - Beach ',\n",
    "          '5 - Bridge ','6 - Chaparral ','7 - Church ','8 - Circular Farmland ','9 - Cloud ',\n",
    "          '10 - Commercial Area ','11 - Dense Residential ','12 - Desert ','13 - Forest ','14 - Freeway ',\n",
    "          '15 - Golf Course ','16 - Ground Track Field ','17 - Harbor ','18 - Industrial Area ','19 - Intersection ',\n",
    "          '20 - Island ','21 - Lake ','22 - Meadow ','23 - Medium Residential ','24 - Mobile Home Park ',\n",
    "          '25 - Mountain ','26 - Overpass ','27 - Palace ','28 - Parking Lot ','29 - Railway ',\n",
    "          '30 - Railway Station ','31 - Rectangular Farmland ','32 - River ','33 - Roundabout ','34 - Runway ',\n",
    "          '35 - Sea Ice ','36 - Ship ','37 - Snowberg ','38 - Sparse Residential ','39 - Stadium ',\n",
    "          '40 - Storage Tank ','41 - Tennis Court ','42 - Terrace ','43 - Thermal Power Station ','44 - Wetland ']"
   ]
  },
  {
   "cell_type": "code",
   "execution_count": null,
   "metadata": {},
   "outputs": [],
   "source": []
  },
  {
   "cell_type": "code",
   "execution_count": null,
   "metadata": {},
   "outputs": [],
   "source": [
    "# comfusion matrix\n",
    "def plot_sonfusion_matrix(cm, percent, classes, normalize=False, cmap=plt.cm.gray_r):\n",
    "    fig = plt.figure(figsize=(20, 17.5))\n",
    "    \n",
    "    ax = fig.add_subplot(111)\n",
    "    ax.imshow(cm, interpolation='nearest', cmap=cmap)\n",
    "    #ax.set_title('Confusion Matrix for Predicting AID Using Resnet 50 and A Batch Size of 64')\n",
    "    tick_marks = np.arange(len(classes))\n",
    "    ax.set_xticks(tick_marks)\n",
    "    ax.set_yticks(tick_marks)\n",
    "    ax.set_yticklabels(labels)\n",
    "    \n",
    "    ax1 = ax.twinx()\n",
    "    ax1.imshow(cm, interpolation='nearest', cmap=cmap)\n",
    "    ax1.set_yticks(tick_marks)\n",
    "    ax1.set_yticklabels(percent)\n",
    "    \n",
    "    \n",
    "    if normalize:\n",
    "        cm = cm.astype('float')/cm.sum(axis=1)[:,np.newaxis]\n",
    "    thresh = cm.max()/2.0\n",
    "    for i,j in itertools.product(range(cm.shape[0]), range(cm.shape[1])):\n",
    "        plt.text(j,i,cm[i,j], va='center', ha='center',color='white' if cm[i,j] > thresh else 'black')\n",
    "    plt.tight_layout()\n",
    "    ax.set_ylabel('True')\n",
    "    ax.set_xlabel('Predict')\n",
    "    \n",
    "    plt.savefig('confusion_matirx.png', dpi=200)"
   ]
  },
  {
   "cell_type": "code",
   "execution_count": null,
   "metadata": {},
   "outputs": [],
   "source": [
    "confusion_mat = confusion_matrix(true_label, predict_label)"
   ]
  },
  {
   "cell_type": "code",
   "execution_count": null,
   "metadata": {},
   "outputs": [],
   "source": [
    "# Calculate the correct percentage of prediction\n",
    "percent = np.zeros((1,45))\n",
    "sum_of_each_label = confusion_mat.sum(axis=1)\n",
    "for i in range(45):\n",
    "    percent[0][i] = Decimal(confusion_mat[i][i] / sum_of_each_label[i] * 100).quantize(Decimal('0.00'))"
   ]
  },
  {
   "cell_type": "code",
   "execution_count": null,
   "metadata": {},
   "outputs": [],
   "source": [
    "percent_label = [''] * 45\n",
    "for j in range(45):\n",
    "    percent_label[j] = ' ' + str(percent[0][j]) + ' %'"
   ]
  },
  {
   "cell_type": "code",
   "execution_count": null,
   "metadata": {
    "scrolled": false
   },
   "outputs": [],
   "source": [
    "plot_sonfusion_matrix(confusion_mat, percent_label, classes = range(45))"
   ]
  },
  {
   "cell_type": "code",
   "execution_count": null,
   "metadata": {
    "collapsed": true
   },
   "outputs": [],
   "source": []
  },
  {
   "cell_type": "code",
   "execution_count": null,
   "metadata": {
    "collapsed": true
   },
   "outputs": [],
   "source": []
  }
 ],
 "metadata": {
  "kernelspec": {
   "display_name": "Python 3",
   "language": "python",
   "name": "python3"
  },
  "language_info": {
   "codemirror_mode": {
    "name": "ipython",
    "version": 3
   },
   "file_extension": ".py",
   "mimetype": "text/x-python",
   "name": "python",
   "nbconvert_exporter": "python",
   "pygments_lexer": "ipython3",
   "version": "3.6.5"
  }
 },
 "nbformat": 4,
 "nbformat_minor": 2
}
