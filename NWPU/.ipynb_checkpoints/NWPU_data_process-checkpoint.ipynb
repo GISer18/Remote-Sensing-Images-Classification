{
 "cells": [
  {
   "cell_type": "code",
   "execution_count": null,
   "metadata": {},
   "outputs": [],
   "source": [
    "import scipy\n",
    "import h5py\n",
    "from PIL import Image\n",
    "from scipy import ndimage\n",
    "import numpy as np\n",
    "import random\n",
    "from matplotlib import pyplot as plt\n",
    "from scipy.misc import imread\n",
    "from keras.preprocessing import image\n",
    "from sklearn.model_selection import train_test_split\n",
    "\n",
    "%matplotlib inline"
   ]
  },
  {
   "cell_type": "code",
   "execution_count": null,
   "metadata": {
    "collapsed": true
   },
   "outputs": [],
   "source": [
    "names = ['airplane','airport','baseball_diamond','basketball_court','beach',\n",
    "            'bridge','chaparral','church','circular_farmland','cloud',\n",
    "            'commercial_area','dense_residential','desert','forest','freeway',\n",
    "            'golf_course','ground_track_field','harbor','industrial_area','intersection',\n",
    "            'island','lake','meadow','medium_residential','mobile_home_park',\n",
    "            'mountain','overpass','palace','parking_lot','railway',\n",
    "            'railway_station','rectangular_farmland','river','roundabout','runway',\n",
    "            'sea_ice','ship','snowberg','sparse_residential','stadium',\n",
    "            'storage_tank','tennis_court','terrace','thermal_power_station','wetland']"
   ]
  },
  {
   "cell_type": "code",
   "execution_count": null,
   "metadata": {
    "collapsed": true
   },
   "outputs": [],
   "source": [
    "num = 700\n",
    "indexs = [i for i in range(45)]\n",
    "random_index = random.sample(indexs, 9)\n",
    "random_index = np.array(random_index)"
   ]
  },
  {
   "cell_type": "code",
   "execution_count": null,
   "metadata": {},
   "outputs": [],
   "source": [
    "y1 = np.ones((700,1)) * random_index[0]\n",
    "y2 = np.ones((700,1)) * random_index[1]\n",
    "y3 = np.ones((700,1)) * random_index[2]\n",
    "y4 = np.ones((700,1)) * random_index[3]\n",
    "y5 = np.ones((700,1)) * random_index[4]\n",
    "y6 = np.ones((700,1)) * random_index[5]\n",
    "y7 = np.ones((700,1)) * random_index[6]\n",
    "y8 = np.ones((700,1)) * random_index[7]\n",
    "y9 = np.ones((700,1)) * random_index[8]\n",
    "Y = np.vstack((y1,y2,y3,y4,y5,y6,y7,y8,y9))\n",
    "Y = Y.astype('int64')"
   ]
  },
  {
   "cell_type": "code",
   "execution_count": null,
   "metadata": {},
   "outputs": [],
   "source": [
    "X = []\n",
    "path = 'NWPU-RESISC45/dataset/'\n",
    "for index in random_index:\n",
    "    sub_path = names[index] + '/'\n",
    "    for i in range(num):\n",
    "        if i < 9:\n",
    "            pic_name = names[index] + '_00' + str(i+1)\n",
    "        elif i >= 9 and i < 99:\n",
    "            pic_name = names[index] + '_0' + str(i+1)\n",
    "        else:\n",
    "            pic_name = names[index] + '_' + str(i+1)\n",
    "        img = image.load_img(path + sub_path + pic_name + \".jpg\", target_size=(224, 224))\n",
    "        img_arr = image.img_to_array(img)\n",
    "        X.append(img_arr)\n",
    "X = np.array(X)"
   ]
  },
  {
   "cell_type": "code",
   "execution_count": null,
   "metadata": {
    "collapsed": true
   },
   "outputs": [],
   "source": [
    "permutation = list(np.random.permutation(m))\n",
    "X = X[permutation,:,:,:]\n",
    "Y = Y[permutation,:]"
   ]
  },
  {
   "cell_type": "code",
   "execution_count": null,
   "metadata": {
    "collapsed": true
   },
   "outputs": [],
   "source": [
    "def convert_to_one_hot(Y, C):\n",
    "    Y = np.eye(C)[Y.reshape(-1)].T\n",
    "    return Y"
   ]
  },
  {
   "cell_type": "code",
   "execution_count": null,
   "metadata": {
    "collapsed": true
   },
   "outputs": [],
   "source": [
    "Y = convert_to_one_hot(Y, C=45).T"
   ]
  },
  {
   "cell_type": "code",
   "execution_count": null,
   "metadata": {
    "collapsed": true
   },
   "outputs": [],
   "source": [
    "f = h5py.File('NWPU_9_classes_3.h5','w')\n",
    "f['data'] = X\n",
    "f['labels'] = Y\n",
    "f.close()"
   ]
  },
  {
   "cell_type": "code",
   "execution_count": null,
   "metadata": {
    "collapsed": true
   },
   "outputs": [],
   "source": []
  },
  {
   "cell_type": "code",
   "execution_count": null,
   "metadata": {
    "collapsed": true
   },
   "outputs": [],
   "source": [
    "X = []\n",
    "path = 'NWPU-RESISC45/dataset/'"
   ]
  },
  {
   "cell_type": "code",
   "execution_count": null,
   "metadata": {
    "collapsed": true
   },
   "outputs": [],
   "source": [
    "for idx in range(1,45):\n",
    "    sub_path = names[idx] + '/'\n",
    "    X_temp = []\n",
    "    for i in range(700):\n",
    "        if i < 9:\n",
    "            pic_name = names[idx] + '_00' + str(i+1)\n",
    "        elif i >= 9 and i < 99:\n",
    "            pic_name = names[idx] + '_0' + str(i+1)\n",
    "        else:\n",
    "            pic_name = names[idx] + '_' + str(i+1)\n",
    "        img = image.load_img(path + sub_path + pic_name + \".jpg\", target_size=(224, 224))\n",
    "        img_arr = image.img_to_array(img)\n",
    "        X_temp.append(img_arr)\n",
    "    temp = random.sample(X_temp, 140)\n",
    "    temp = np.array(temp)\n",
    "    X = np.vstack((X, temp))\n",
    "    del X_temp,temp"
   ]
  },
  {
   "cell_type": "code",
   "execution_count": null,
   "metadata": {
    "collapsed": true
   },
   "outputs": [],
   "source": [
    "Y = np.ones((140, 1)) * 0\n",
    "for k in range(1,45):\n",
    "    y = np.ones((140, 1)) * k\n",
    "    Y = np.vstack((Y,y))\n",
    "Y = Y.astype('int64')"
   ]
  },
  {
   "cell_type": "code",
   "execution_count": null,
   "metadata": {
    "collapsed": true
   },
   "outputs": [],
   "source": [
    "m = 6300\n",
    "permutation = list(np.random.permutation(m))\n",
    "X = X[permutation,:,:,:]\n",
    "Y = Y[permutation,:]"
   ]
  },
  {
   "cell_type": "code",
   "execution_count": null,
   "metadata": {
    "collapsed": true
   },
   "outputs": [],
   "source": [
    "def convert_to_one_hot(Y, C):\n",
    "    Y = np.eye(C)[Y.reshape(-1)].T\n",
    "    return Y\n",
    "Y = convert_to_one_hot(Y, C=45).T"
   ]
  },
  {
   "cell_type": "code",
   "execution_count": null,
   "metadata": {
    "collapsed": true
   },
   "outputs": [],
   "source": [
    "f = h5py.File('NWPU_30_classes_3.h5','w')\n",
    "f['data'] = X\n",
    "f['labels'] = Y\n",
    "f.close()"
   ]
  },
  {
   "cell_type": "code",
   "execution_count": null,
   "metadata": {},
   "outputs": [],
   "source": []
  },
  {
   "cell_type": "code",
   "execution_count": null,
   "metadata": {},
   "outputs": [],
   "source": []
  },
  {
   "cell_type": "code",
   "execution_count": null,
   "metadata": {
    "collapsed": true
   },
   "outputs": [],
   "source": []
  }
 ],
 "metadata": {
  "kernelspec": {
   "display_name": "Python 3",
   "language": "python",
   "name": "python3"
  },
  "language_info": {
   "codemirror_mode": {
    "name": "ipython",
    "version": 3
   },
   "file_extension": ".py",
   "mimetype": "text/x-python",
   "name": "python",
   "nbconvert_exporter": "python",
   "pygments_lexer": "ipython3",
   "version": "3.6.5"
  }
 },
 "nbformat": 4,
 "nbformat_minor": 2
}
