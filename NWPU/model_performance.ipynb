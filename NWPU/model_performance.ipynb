{
 "cells": [
  {
   "cell_type": "code",
   "execution_count": 1,
   "metadata": {
    "collapsed": true
   },
   "outputs": [],
   "source": [
    "import h5py\n",
    "import numpy as np\n",
    "import matplotlib.pyplot as plt\n",
    "%matplotlib inline"
   ]
  },
  {
   "cell_type": "code",
   "execution_count": 2,
   "metadata": {
    "collapsed": false
   },
   "outputs": [],
   "source": [
    "f = h5py.File('nwpu_result/resnet50/dp_0.2/performance/nwpu_resnet50_dp_0.2_metrics_loss_valloss_acc_valacc.h5', 'r')\n",
    "loss = f['loss'][:]\n",
    "val_loss = f['val_loss'][:]\n",
    "acc = f['acc'][:]\n",
    "val_acc = f['val_acc'][:]"
   ]
  },
  {
   "cell_type": "code",
   "execution_count": 3,
   "metadata": {
    "collapsed": false
   },
   "outputs": [],
   "source": [
    "f1 = h5py.File('nwpu_result/inceptionv3/dp_0.2/performance/inceptionv3_dp_0.2_loss_valloss_acc_valacc.h5', 'r')\n",
    "loss1 = f1['loss'][:]\n",
    "val_loss1 = f1['val_loss'][:]\n",
    "acc1 = f1['acc'][:]\n",
    "val_acc1 = f1['val_acc'][:]"
   ]
  },
  {
   "cell_type": "code",
   "execution_count": 4,
   "metadata": {
    "collapsed": true
   },
   "outputs": [],
   "source": [
    "f2 = h5py.File('nwpu_result/xception/dp_0.2/performance/nwpu_xception_dp_0.2_loss_valloss_acc_valacc.h5', 'r')\n",
    "loss2 = f2['loss'][:]\n",
    "val_loss2 = f2['val_loss'][:]\n",
    "acc2 = f2['acc'][:]\n",
    "val_acc2 = f2['val_acc'][:]"
   ]
  },
  {
   "cell_type": "code",
   "execution_count": null,
   "metadata": {
    "collapsed": false
   },
   "outputs": [],
   "source": [
    "fig = plt.figure(figsize=(10,8))\n",
    "\n",
    "# loss and val_loss\n",
    "figure1 = fig.add_subplot(221)\n",
    "\n",
    "figure1.plot(loss,label='ResNet50_train_loss',color='b')\n",
    "figure1.plot(val_loss,label='ResNet50_test_loss',color='g')\n",
    "\n",
    "figure1.plot(loss1[:30],label='ResNet50_V1_train_loss',linestyle = \"--\",color='y')\n",
    "figure1.plot(val_loss1[:30],label='ResNet50_V1_test_loss',linestyle = \"--\",color='r')\n",
    "\n",
    "figure1.set_xlabel('(a) - Epochs')\n",
    "figure1.set_ylabel('Loss')\n",
    "#figure1.set_title('Loss on Train set and Test set with No Dropout')\n",
    "figure1.grid(True, linestyle = \"--\", color = \"gray\", linewidth = \"0.5\")\n",
    "figure1.legend()\n",
    "\n",
    "#acc and val_acc\n",
    "figure2 = fig.add_subplot(223)\n",
    "\n",
    "figure2.plot(acc,label='ResNet50_train_accuracy',color='b')\n",
    "figure2.plot(val_acc,label='ResNet50_test_accuracy',color='g')\n",
    "\n",
    "figure2.plot(acc1[:30],label='ResNet50_V1_train_accuracy',linestyle = \"--\",color='y')\n",
    "figure2.plot(val_acc1[:30],label='ResNet50_V1_test_accuracy',linestyle = \"--\",color='r')\n",
    "\n",
    "figure2.set_xlabel('(c) - Epochs')\n",
    "figure2.set_ylabel('Accuracy')\n",
    "#figure2.set_title('Accuracy on Train set and Test set with No Dropout')\n",
    "figure2.grid(True, linestyle = \"--\", color = \"gray\", linewidth = \"0.5\")\n",
    "figure2.legend()\n",
    "\n",
    "# loss and acc\n",
    "figure3 = fig.add_subplot(222)\n",
    "\n",
    "figure3.plot(loss,label='ResNet50_train_loss',color='b')\n",
    "figure3.plot(acc,label='ResNet50_train_accuracy',color='g')\n",
    "\n",
    "figure3.plot(loss1[:30],label='ResNet50_V1_train_loss',linestyle = \"--\",color='y')\n",
    "figure3.plot(acc1[:30],label='ResNet50_V1_train_accuracy',linestyle = \"--\",color='r')\n",
    "\n",
    "figure3.set_xlabel('(b) - Epochs')\n",
    "figure3.set_ylabel('Performance')\n",
    "#figure3.set_title('Train Loss and Train Accuracy with No Dropout')\n",
    "figure3.grid(True, linestyle = \"--\", color = \"gray\", linewidth = \"0.5\")\n",
    "figure3.legend()\n",
    "\n",
    "# val_loss and val_acc\n",
    "figure4 = fig.add_subplot(224)\n",
    "\n",
    "figure4.plot(val_loss,label='ResNet50_test_loss',color='b')\n",
    "figure4.plot(val_acc,label='ResNet50_test_accuracy',color='g')\n",
    "\n",
    "figure4.plot(val_loss1[:30],label='ResNet50_V1_test_loss',linestyle = \"--\",color='y')\n",
    "figure4.plot(val_acc1[:30],label='ResNet50_V1_test_accuracy',linestyle = \"--\",color='r')\n",
    "\n",
    "figure4.set_xlabel('(d) - Epochs')\n",
    "figure4.set_ylabel('Performance')\n",
    "#figure4.set_title('Test Loss and Test Accuracy with No Dropout')\n",
    "figure4.grid(True, linestyle = \"--\", color = \"gray\", linewidth = \"0.5\")\n",
    "figure4.legend()\n",
    "\n",
    "plt.tight_layout()\n",
    "plt.savefig(\"performance.png\",dpi=200)"
   ]
  },
  {
   "cell_type": "code",
   "execution_count": null,
   "metadata": {
    "collapsed": false
   },
   "outputs": [],
   "source": [
    "acc1[:30].shape"
   ]
  },
  {
   "cell_type": "code",
   "execution_count": null,
   "metadata": {
    "collapsed": true
   },
   "outputs": [],
   "source": [
    "acc_box = [acc,val_acc]\n",
    "loss_box = [loss,val_loss]\n",
    "acc_box1 = [acc1[:30],val_acc1[:30]]\n",
    "loss_box1 = [loss1[:30],val_loss1[:30]]"
   ]
  },
  {
   "cell_type": "code",
   "execution_count": null,
   "metadata": {
    "collapsed": true
   },
   "outputs": [],
   "source": [
    "acc_box = np.array(acc_box)\n",
    "loss_box = np.array(loss_box)\n",
    "acc_box1 = np.array(acc_box1)\n",
    "loss_box1 = np.array(loss_box1)"
   ]
  },
  {
   "cell_type": "code",
   "execution_count": null,
   "metadata": {
    "collapsed": true
   },
   "outputs": [],
   "source": [
    "acc_labels = ['acc','val_acc']\n",
    "loss_labels = ['loss','val_loss']\n",
    "acc_labels1 = ['acc','val_acc']\n",
    "loss_labels1 = ['loss','val_loss']"
   ]
  },
  {
   "cell_type": "code",
   "execution_count": null,
   "metadata": {
    "collapsed": false
   },
   "outputs": [],
   "source": [
    "fig = plt.figure(figsize=(8,8))\n",
    "\n",
    "figure1 = fig.add_subplot(221)\n",
    "figure1.boxplot(acc_box.T, labels = acc_labels,meanline=True,showmeans=True)\n",
    "figure1.grid(True, linestyle = \"--\", color = \"gray\", linewidth = \"0.5\")\n",
    "figure1.set_xlabel('(a) - ResNet50')\n",
    "\n",
    "figure2 = fig.add_subplot(222)\n",
    "figure2.boxplot(loss_box.T, labels = loss_labels,meanline=True,showmeans=True)\n",
    "figure2.grid(True, linestyle = \"--\", color = \"gray\", linewidth = \"0.5\")\n",
    "figure2.set_xlabel('(b) - ResNet50')\n",
    "\n",
    "figure3 = fig.add_subplot(223)\n",
    "figure3.boxplot(acc_box1.T, labels = acc_labels1,meanline=True,showmeans=True)\n",
    "figure3.grid(True, linestyle = \"--\", color = \"gray\", linewidth = \"0.5\")\n",
    "figure3.set_xlabel('(c) - ResNet50-V1')\n",
    "\n",
    "figure4 = fig.add_subplot(224)\n",
    "figure4.boxplot(loss_box1.T, labels = loss_labels1,meanline=True,showmeans=True)\n",
    "figure4.grid(True, linestyle = \"--\", color = \"gray\", linewidth = \"0.5\")\n",
    "figure4.set_xlabel('(d) - ResNet50-V1')\n",
    "\n",
    "plt.tight_layout()\n",
    "plt.savefig(\"box_1.png\",dpi=200)"
   ]
  },
  {
   "cell_type": "code",
   "execution_count": null,
   "metadata": {
    "collapsed": false
   },
   "outputs": [],
   "source": [
    "print('val_acc_mean:',val_acc[6:].mean())\n",
    "print('val_acc_max:',val_acc[6:].max())\n",
    "print('val_acc_min:',val_acc[6:].min())\n",
    "\n",
    "print('val_acc1_mean:',val_acc1[7:].mean())\n",
    "print('val_acc1_max:',val_acc1[7:].max())\n",
    "print('val_acc1_min:',val_acc1[7:].min())\n",
    "\n",
    "print('val_acc2_mean:',val_acc2[8:].mean())\n",
    "print('val_acc2_max:',val_acc2[8:].max())\n",
    "print('val_acc2_min:',val_acc2[8:].min())"
   ]
  },
  {
   "cell_type": "code",
   "execution_count": 16,
   "metadata": {
    "collapsed": false
   },
   "outputs": [
    {
     "data": {
      "text/plain": [
       "array([ 0.73206347,  0.8747619 ,  0.84841269,  0.8811111 ,  0.86095237,\n",
       "        0.86809523,  0.88587301,  0.89063491,  0.94079365,  0.94333333,\n",
       "        0.9452381 ,  0.94333333,  0.94253968,  0.94380952,  0.94444444,\n",
       "        0.94444444,  0.94492064,  0.94539683,  0.94555555,  0.94571429,\n",
       "        0.94571429,  0.94619048,  0.94539683,  0.94571429,  0.94555556,\n",
       "        0.94539682,  0.94587302,  0.94555556,  0.94523809,  0.94507936])"
      ]
     },
     "execution_count": 16,
     "metadata": {},
     "output_type": "execute_result"
    }
   ],
   "source": [
    "val_acc2"
   ]
  },
  {
   "cell_type": "code",
   "execution_count": 17,
   "metadata": {
    "collapsed": false
   },
   "outputs": [
    {
     "data": {
      "text/plain": [
       "array([ 0.94079365,  0.94333333,  0.9452381 ,  0.94333333,  0.94253968,\n",
       "        0.94380952,  0.94444444,  0.94444444,  0.94492064,  0.94539683,\n",
       "        0.94555555,  0.94571429,  0.94571429,  0.94619048,  0.94539683,\n",
       "        0.94571429,  0.94555556,  0.94539682,  0.94587302,  0.94555556,\n",
       "        0.94523809,  0.94507936])"
      ]
     },
     "execution_count": 17,
     "metadata": {},
     "output_type": "execute_result"
    }
   ],
   "source": [
    "val_acc2[8:]"
   ]
  },
  {
   "cell_type": "code",
   "execution_count": 18,
   "metadata": {
    "collapsed": false
   },
   "outputs": [],
   "source": [
    "max = val_acc2[8:].max()\n",
    "min = val_acc2[8:].min()\n",
    "mean = val_acc2[8:].mean()"
   ]
  },
  {
   "cell_type": "code",
   "execution_count": 19,
   "metadata": {
    "collapsed": false
   },
   "outputs": [
    {
     "name": "stdout",
     "output_type": "stream",
     "text": [
      "0.946190476891 0.94079364718 0.944783549955\n"
     ]
    }
   ],
   "source": [
    "print(max,min,mean)"
   ]
  },
  {
   "cell_type": "code",
   "execution_count": 20,
   "metadata": {
    "collapsed": false
   },
   "outputs": [
    {
     "data": {
      "text/plain": [
       "0.0014069269358855108"
      ]
     },
     "execution_count": 20,
     "metadata": {},
     "output_type": "execute_result"
    }
   ],
   "source": [
    "a = max - mean\n",
    "a"
   ]
  },
  {
   "cell_type": "code",
   "execution_count": null,
   "metadata": {
    "collapsed": true
   },
   "outputs": [],
   "source": []
  },
  {
   "cell_type": "code",
   "execution_count": null,
   "metadata": {
    "collapsed": false
   },
   "outputs": [],
   "source": [
    "fig = plt.figure(figsize=(10,8))\n",
    "\n",
    "# loss\n",
    "figure1 = fig.add_subplot(221)\n",
    "\n",
    "figure1.plot(loss,label='ResNet50',color='r')\n",
    "figure1.plot(loss1,label='Inception',linestyle = \":\",color='g')\n",
    "figure1.plot(loss2,label='Xception',linestyle = \"--\",color='b')\n",
    "\n",
    "figure1.set_xlabel('(a) - Train Loss')\n",
    "figure1.set_ylabel('Loss')\n",
    "\n",
    "figure1.grid(True, linestyle = \"--\", color = \"gray\", linewidth = \"0.5\")\n",
    "figure1.legend()\n",
    "\n",
    "# val_loss\n",
    "figure3 = fig.add_subplot(222)\n",
    "\n",
    "figure3.plot(val_loss,label='ResNet50',color='r')\n",
    "figure3.plot(val_loss1,label='Inception',linestyle = \":\",color='g')\n",
    "figure3.plot(val_loss2,label='Xception',linestyle = \"--\",color='b')\n",
    "\n",
    "figure3.set_xlabel('(b) - Test Loss')\n",
    "figure3.set_ylabel('Loss')\n",
    "\n",
    "figure3.grid(True, linestyle = \"--\", color = \"gray\", linewidth = \"0.5\")\n",
    "figure3.legend()\n",
    "\n",
    "#acc\n",
    "figure2 = fig.add_subplot(223)\n",
    "\n",
    "figure2.plot(acc,label='ResNet50',color='r')\n",
    "figure2.plot(acc1,label='Inception',linestyle = \":\",color='g')\n",
    "figure2.plot(acc2,label='Xception',linestyle = \"--\",color='b')\n",
    "\n",
    "figure2.set_xlabel('(c) - Train Accuracy')\n",
    "figure2.set_ylabel('Accuracy')\n",
    "\n",
    "figure2.grid(True, linestyle = \"--\", color = \"gray\", linewidth = \"0.5\")\n",
    "figure2.legend()\n",
    "\n",
    "# val_acc\n",
    "figure4 = fig.add_subplot(224)\n",
    "\n",
    "figure4.plot(val_acc,label='ResNet50',color='r')\n",
    "figure4.plot(val_acc1,label='Inception',linestyle = \":\",color='g')\n",
    "figure4.plot(val_acc2,label='Xception',linestyle = \"--\",color='b')\n",
    "\n",
    "figure4.set_xlabel('(d) - Test Accuracy')\n",
    "figure4.set_ylabel('Accuracy')\n",
    "figure4.grid(True, linestyle = \"--\", color = \"gray\", linewidth = \"0.5\")\n",
    "figure4.legend()\n",
    "\n",
    "plt.tight_layout()\n",
    "plt.savefig(\"performance.png\",bbox_inches='tight',transparent=True,dpi=200)"
   ]
  },
  {
   "cell_type": "code",
   "execution_count": null,
   "metadata": {
    "collapsed": true
   },
   "outputs": [],
   "source": []
  }
 ],
 "metadata": {
  "kernelspec": {
   "display_name": "Python 3",
   "language": "python",
   "name": "python3"
  },
  "language_info": {
   "codemirror_mode": {
    "name": "ipython",
    "version": 3
   },
   "file_extension": ".py",
   "mimetype": "text/x-python",
   "name": "python",
   "nbconvert_exporter": "python",
   "pygments_lexer": "ipython3",
   "version": "3.6.0"
  }
 },
 "nbformat": 4,
 "nbformat_minor": 2
}
