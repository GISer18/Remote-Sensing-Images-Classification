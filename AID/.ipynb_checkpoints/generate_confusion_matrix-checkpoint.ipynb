{
 "cells": [
  {
   "cell_type": "code",
   "execution_count": null,
   "metadata": {},
   "outputs": [],
   "source": [
    "import numpy as np\n",
    "import h5py\n",
    "import itertools\n",
    "import matplotlib.pyplot as plt\n",
    "from keras.models import Model, load_model\n",
    "from sklearn.metrics import confusion_matrix\n",
    "from decimal import *\n",
    "\n",
    "%matplotlib inline"
   ]
  },
  {
   "cell_type": "code",
   "execution_count": null,
   "metadata": {},
   "outputs": [],
   "source": [
    "labels = h5py.File('aid_result/aid_xception/dp_0.2/confusion_matrix/aid_xceptionv3_dp_0.2_predict_true_label_for_confusion_matrix.h5', 'r')"
   ]
  },
  {
   "cell_type": "code",
   "execution_count": null,
   "metadata": {},
   "outputs": [],
   "source": [
    "predict_label = labels['predict_label'][:]\n",
    "true_label = labels['true_label'][:]"
   ]
  },
  {
   "cell_type": "code",
   "execution_count": null,
   "metadata": {},
   "outputs": [],
   "source": [
    "predict_label.shape"
   ]
  },
  {
   "cell_type": "code",
   "execution_count": null,
   "metadata": {},
   "outputs": [],
   "source": [
    "labels = ['0 - Airport ','1 - Bareland ','2 - Baseball field ','3 - Beach ','4 - Bridge ',\n",
    "          '5 - Center ','6 - Church ','7 - Commercial ','8 - Dense Residential ','9 - Desert ',\n",
    "          '10 - Farmland ','11 - Forest ','12 - Industrial ','13 - Meadow ','14 - Medium Residential ',\n",
    "          '15 - Mountain ','16 - Park ','17 - Parking ','18 - Playground ','19 - Pond ',\n",
    "          '20 - Port ','21 - Railway Station ','22 - Resort ','23 - River ','24 - School ',\n",
    "          '25 - Sparse Residential ','26 - Square ','27 - Stadium ','28 - Storage Tanks ','29 - Viaduct ']"
   ]
  },
  {
   "cell_type": "code",
   "execution_count": null,
   "metadata": {},
   "outputs": [],
   "source": [
    "# comfusion matrix\n",
    "def plot_sonfusion_matrix(cm, percent, classes, normalize=False, cmap=plt.cm.gray_r):\n",
    "    fig = plt.figure(figsize=(12, 9.7))\n",
    "    \n",
    "    ax = fig.add_subplot(111)\n",
    "    ax.imshow(cm, interpolation='nearest', cmap=cmap)\n",
    "    #ax.set_title('Confusion Matrix for Predicting AID Using Resnet 50 and A Batch Size of 64')\n",
    "    tick_marks = np.arange(len(classes))\n",
    "    ax.set_xticks(tick_marks)\n",
    "    ax.set_yticks(tick_marks)\n",
    "    ax.set_yticklabels(labels)\n",
    "    \n",
    "    ax1 = ax.twinx()\n",
    "    ax1.imshow(cm, interpolation='nearest', cmap=cmap)\n",
    "    ax1.set_yticks(tick_marks)\n",
    "    ax1.set_yticklabels(percent)\n",
    "    \n",
    "    \n",
    "    if normalize:\n",
    "        cm = cm.astype('float')/cm.sum(axis=1)[:,np.newaxis]\n",
    "    thresh = cm.max()/2.0\n",
    "    for i,j in itertools.product(range(cm.shape[0]), range(cm.shape[1])):\n",
    "        plt.text(j,i,cm[i,j], va='center', ha='center',color='white' if cm[i,j] > thresh else 'black')\n",
    "    plt.tight_layout()\n",
    "    ax.set_ylabel('True')\n",
    "    ax.set_xlabel('Predict')\n",
    "    \n",
    "    #plt.savefig('confusion_matirx.png', dpi=200)"
   ]
  },
  {
   "cell_type": "code",
   "execution_count": null,
   "metadata": {},
   "outputs": [],
   "source": [
    "confusion_mat = confusion_matrix(true_label, predict_label)"
   ]
  },
  {
   "cell_type": "code",
   "execution_count": null,
   "metadata": {},
   "outputs": [],
   "source": [
    "confusion_mat.shape"
   ]
  },
  {
   "cell_type": "code",
   "execution_count": null,
   "metadata": {},
   "outputs": [],
   "source": [
    "# Calculate the correct percentage of prediction\n",
    "percent = np.zeros((1,30))\n",
    "sum_of_each_label = confusion_mat.sum(axis=1)\n",
    "for i in range(30):\n",
    "    percent[0][i] = Decimal(confusion_mat[i][i] / sum_of_each_label[i] * 100).quantize(Decimal('0.00'))"
   ]
  },
  {
   "cell_type": "code",
   "execution_count": null,
   "metadata": {},
   "outputs": [],
   "source": [
    "percent_label = [''] * 30\n",
    "for j in range(30):\n",
    "    percent_label[j] = ' ' + str(percent[0][j]) + ' %'"
   ]
  },
  {
   "cell_type": "code",
   "execution_count": null,
   "metadata": {},
   "outputs": [],
   "source": [
    "plot_sonfusion_matrix(confusion_mat, percent_label, classes = range(30))"
   ]
  },
  {
   "cell_type": "code",
   "execution_count": null,
   "metadata": {},
   "outputs": [],
   "source": []
  },
  {
   "cell_type": "code",
   "execution_count": null,
   "metadata": {},
   "outputs": [],
   "source": []
  }
 ],
 "metadata": {
  "kernelspec": {
   "display_name": "Python 3",
   "language": "python",
   "name": "python3"
  },
  "language_info": {
   "codemirror_mode": {
    "name": "ipython",
    "version": 3
   },
   "file_extension": ".py",
   "mimetype": "text/x-python",
   "name": "python",
   "nbconvert_exporter": "python",
   "pygments_lexer": "ipython3",
   "version": "3.6.5"
  }
 },
 "nbformat": 4,
 "nbformat_minor": 2
}
