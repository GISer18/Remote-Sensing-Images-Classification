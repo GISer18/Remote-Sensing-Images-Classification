{
 "cells": [
  {
   "cell_type": "code",
   "execution_count": null,
   "metadata": {
    "collapsed": true
   },
   "outputs": [],
   "source": [
    "import h5py\n",
    "import numpy as np\n",
    "import matplotlib.pyplot as plt\n",
    "%matplotlib inline"
   ]
  },
  {
   "cell_type": "code",
   "execution_count": null,
   "metadata": {},
   "outputs": [],
   "source": [
    "f = h5py.File('aid_result/aid_resnet50/dp_0.2/performance/aid_resnet50_dp_0.2_metrics_loss_valloss_acc_valacc.h5', 'r')\n",
    "loss = f['loss'][:]\n",
    "val_loss = f['val_loss'][:]\n",
    "acc = f['acc'][:]\n",
    "val_acc = f['val_acc'][:]"
   ]
  },
  {
   "cell_type": "code",
   "execution_count": null,
   "metadata": {},
   "outputs": [],
   "source": [
    "f1 = h5py.File('aid_result/aid_inceptionv3/dp_0.2/performance/inceptionv3_dp_0.2_loss_valloss_acc_valacc.h5', 'r')\n",
    "loss1 = f1['loss'][:]\n",
    "val_loss1 = f1['val_loss'][:]\n",
    "acc1 = f1['acc'][:]\n",
    "val_acc1 = f1['val_acc'][:]"
   ]
  },
  {
   "cell_type": "code",
   "execution_count": null,
   "metadata": {
    "collapsed": true
   },
   "outputs": [],
   "source": [
    "f2 = h5py.File('aid_result/aid_xception/dp_0.2/performance/aid_xceptionv3_dp_0.2_loss_valloss_acc_valacc.h5', 'r')\n",
    "loss2 = f2['loss'][:]\n",
    "val_loss2 = f2['val_loss'][:]\n",
    "acc2 = f2['acc'][:]\n",
    "val_acc2 = f2['val_acc'][:]"
   ]
  },
  {
   "cell_type": "code",
   "execution_count": null,
   "metadata": {},
   "outputs": [],
   "source": [
    "fig = plt.figure(figsize=(10,8))\n",
    "\n",
    "# loss and val_loss\n",
    "figure1 = fig.add_subplot(221)\n",
    "\n",
    "figure1.plot(loss,label='Inception_train_loss',color='b')\n",
    "figure1.plot(val_loss,label='Inception_test_loss',color='g')\n",
    "\n",
    "figure1.plot(loss1,label='Inception_I1_train_loss',linestyle = \"--\",color='y')\n",
    "figure1.plot(val_loss1,label='Inception_I1_test_loss',linestyle = \"--\",color='r')\n",
    "\n",
    "figure1.set_xlabel('(a) - Epochs')\n",
    "figure1.set_ylabel('Loss')\n",
    "\n",
    "figure1.grid(True, linestyle = \"--\", color = \"gray\", linewidth = \"0.5\")\n",
    "figure1.legend()\n",
    "\n",
    "#acc and val_acc\n",
    "figure2 = fig.add_subplot(223)\n",
    "\n",
    "figure2.plot(acc,label='Inception_train_accuracy',color='b')\n",
    "figure2.plot(val_acc,label='Inception_test_accuracy',color='g')\n",
    "\n",
    "figure2.plot(acc1,label='Inception_I1_train_accuracy',linestyle = \"--\",color='y')\n",
    "figure2.plot(val_acc1,label='Inception_I1_test_accuracy',linestyle = \"--\",color='r')\n",
    "\n",
    "figure2.set_xlabel('(c) - Epochs')\n",
    "figure2.set_ylabel('Accuracy')\n",
    "\n",
    "figure2.grid(True, linestyle = \"--\", color = \"gray\", linewidth = \"0.5\")\n",
    "figure2.legend()\n",
    "\n",
    "# loss and acc\n",
    "figure3 = fig.add_subplot(222)\n",
    "\n",
    "figure3.plot(loss,label='Inception_train_loss',color='b')\n",
    "figure3.plot(acc,label='Inception_train_accuracy',color='g')\n",
    "\n",
    "figure3.plot(loss1,label='Inception_I1_train_loss',linestyle = \"--\",color='y')\n",
    "figure3.plot(acc1,label='Inception_I1_train_accuracy',linestyle = \"--\",color='r')\n",
    "\n",
    "figure3.set_xlabel('(b) - Epochs')\n",
    "figure3.set_ylabel('Performance')\n",
    "\n",
    "figure3.grid(True, linestyle = \"--\", color = \"gray\", linewidth = \"0.5\")\n",
    "figure3.legend()\n",
    "\n",
    "# val_loss and val_acc\n",
    "figure4 = fig.add_subplot(224)\n",
    "\n",
    "figure4.plot(val_loss,label='Inception_test_loss',color='b')\n",
    "figure4.plot(val_acc,label='Inception_test_accuracy',color='g')\n",
    "\n",
    "figure4.plot(val_loss1,label='Inception_I1_test_loss',linestyle = \"--\",color='y')\n",
    "figure4.plot(val_acc1,label='Inception_I1_test_accuracy',linestyle = \"--\",color='r')\n",
    "\n",
    "figure4.set_xlabel('(d) - Epochs')\n",
    "figure4.set_ylabel('Performance')\n",
    "#figure4.set_title('Test Loss and Test Accuracy with No Dropout')\n",
    "figure4.grid(True, linestyle = \"--\", color = \"gray\", linewidth = \"0.5\")\n",
    "figure4.legend()\n",
    "\n",
    "plt.tight_layout()\n",
    "#plt.savefig(\"performance.png\",bbox_inches='tight',transparent=True,dpi=200)"
   ]
  },
  {
   "cell_type": "code",
   "execution_count": null,
   "metadata": {},
   "outputs": [],
   "source": [
    "val_acc2"
   ]
  },
  {
   "cell_type": "code",
   "execution_count": null,
   "metadata": {},
   "outputs": [],
   "source": [
    "val_acc2[15:]"
   ]
  },
  {
   "cell_type": "code",
   "execution_count": null,
   "metadata": {},
   "outputs": [],
   "source": [
    "max = val_acc2[15:].max()\n",
    "min = val_acc2[15:].min()\n",
    "mean = val_acc2[15:].mean()"
   ]
  },
  {
   "cell_type": "code",
   "execution_count": null,
   "metadata": {},
   "outputs": [],
   "source": [
    "print(max,min,mean)"
   ]
  },
  {
   "cell_type": "code",
   "execution_count": null,
   "metadata": {},
   "outputs": [],
   "source": [
    "a = max - mean\n",
    "a"
   ]
  },
  {
   "cell_type": "code",
   "execution_count": null,
   "metadata": {
    "collapsed": true
   },
   "outputs": [],
   "source": []
  },
  {
   "cell_type": "code",
   "execution_count": null,
   "metadata": {
    "collapsed": true
   },
   "outputs": [],
   "source": [
    "acc_box = [acc,val_acc]\n",
    "loss_box = [loss,val_loss]\n",
    "acc_box1 = [acc1,val_acc1]\n",
    "loss_box1 = [loss1,val_loss1]"
   ]
  },
  {
   "cell_type": "code",
   "execution_count": null,
   "metadata": {},
   "outputs": [],
   "source": [
    "acc_box = np.array(acc_box)\n",
    "loss_box = np.array(loss_box)\n",
    "acc_box1 = np.array(acc_box1)\n",
    "loss_box1 = np.array(loss_box1)"
   ]
  },
  {
   "cell_type": "code",
   "execution_count": null,
   "metadata": {},
   "outputs": [],
   "source": []
  },
  {
   "cell_type": "code",
   "execution_count": null,
   "metadata": {},
   "outputs": [],
   "source": [
    "acc_labels = ['acc','val_acc']\n",
    "loss_labels = ['loss','val_loss']\n",
    "acc_labels1 = ['acc','val_acc']\n",
    "loss_labels1 = ['loss','val_loss']"
   ]
  },
  {
   "cell_type": "code",
   "execution_count": null,
   "metadata": {},
   "outputs": [],
   "source": []
  },
  {
   "cell_type": "code",
   "execution_count": null,
   "metadata": {},
   "outputs": [],
   "source": [
    "fig = plt.figure(figsize=(8,8))\n",
    "\n",
    "figure1 = fig.add_subplot(221)\n",
    "figure1.boxplot(acc_box.T, labels = acc_labels,meanline=True,showmeans=True)\n",
    "figure1.grid(True, linestyle = \"--\", color = \"gray\", linewidth = \"0.5\")\n",
    "figure1.set_xlabel('(a) - Train Loss')\n",
    "\n",
    "figure2 = fig.add_subplot(222)\n",
    "figure2.boxplot(loss_box.T, labels = loss_labels,meanline=True,showmeans=True)\n",
    "figure2.grid(True, linestyle = \"--\", color = \"gray\", linewidth = \"0.5\")\n",
    "figure2.set_xlabel('(b) - Test Loss')\n",
    "\n",
    "figure3 = fig.add_subplot(223)\n",
    "figure3.boxplot(acc_box1.T, labels = acc_labels1,meanline=True,showmeans=True)\n",
    "figure3.grid(True, linestyle = \"--\", color = \"gray\", linewidth = \"0.5\")\n",
    "figure3.set_xlabel('(c) - Train Accuracy')\n",
    "\n",
    "figure4 = fig.add_subplot(224)\n",
    "figure4.boxplot(loss_box1.T, labels = loss_labels1,meanline=True,showmeans=True)\n",
    "figure4.grid(True, linestyle = \"--\", color = \"gray\", linewidth = \"0.5\")\n",
    "figure4.set_xlabel('(d) - Test Accuracy')\n",
    "\n",
    "plt.tight_layout()\n",
    "plt.savefig(\"box.png\",dpi=200)"
   ]
  },
  {
   "cell_type": "code",
   "execution_count": null,
   "metadata": {},
   "outputs": [],
   "source": [
    "fig = plt.figure(figsize=(10,8))\n",
    "\n",
    "# loss\n",
    "figure1 = fig.add_subplot(221)\n",
    "\n",
    "figure1.plot(loss,label='ResNet50',color='r')\n",
    "figure1.plot(loss1,label='Inception',linestyle = \":\",color='g')\n",
    "figure1.plot(loss2,label='Xception',linestyle = \"--\",color='b')\n",
    "\n",
    "figure1.set_xlabel('(a) - Train Loss')\n",
    "figure1.set_ylabel('Loss')\n",
    "\n",
    "figure1.grid(True, linestyle = \"--\", color = \"gray\", linewidth = \"0.5\")\n",
    "figure1.legend()\n",
    "\n",
    "# val_loss\n",
    "figure3 = fig.add_subplot(222)\n",
    "\n",
    "figure3.plot(val_loss,label='ResNet50',color='r')\n",
    "figure3.plot(val_loss1,label='Inception',linestyle = \":\",color='g')\n",
    "figure3.plot(val_loss2,label='Xception',linestyle = \"--\",color='b')\n",
    "\n",
    "figure3.set_xlabel('(b) - Test Loss')\n",
    "figure3.set_ylabel('Loss')\n",
    "\n",
    "figure3.grid(True, linestyle = \"--\", color = \"gray\", linewidth = \"0.5\")\n",
    "figure3.legend()\n",
    "\n",
    "#acc\n",
    "figure2 = fig.add_subplot(223)\n",
    "\n",
    "figure2.plot(acc,label='ResNet50',color='r')\n",
    "figure2.plot(acc1,label='Inception',linestyle = \":\",color='g')\n",
    "figure2.plot(acc2,label='Xception',linestyle = \"--\",color='b')\n",
    "\n",
    "figure2.set_xlabel('(c) - Train Accuracy')\n",
    "figure2.set_ylabel('Accuracy')\n",
    "\n",
    "figure2.grid(True, linestyle = \"--\", color = \"gray\", linewidth = \"0.5\")\n",
    "figure2.legend()\n",
    "\n",
    "# val_acc\n",
    "figure4 = fig.add_subplot(224)\n",
    "\n",
    "figure4.plot(val_acc,label='ResNet50',color='r')\n",
    "figure4.plot(val_acc1,label='Inception',linestyle = \":\",color='g')\n",
    "figure4.plot(val_acc2,label='Xception',linestyle = \"--\",color='b')\n",
    "\n",
    "figure4.set_xlabel('(d) - Test Accuracy')\n",
    "figure4.set_ylabel('Accuracy')\n",
    "figure4.grid(True, linestyle = \"--\", color = \"gray\", linewidth = \"0.5\")\n",
    "figure4.legend()\n",
    "\n",
    "plt.tight_layout()\n",
    "plt.savefig(\"performance.png\",bbox_inches='tight',transparent=True,dpi=200)"
   ]
  },
  {
   "cell_type": "code",
   "execution_count": null,
   "metadata": {},
   "outputs": [],
   "source": []
  },
  {
   "cell_type": "code",
   "execution_count": null,
   "metadata": {},
   "outputs": [],
   "source": []
  },
  {
   "cell_type": "code",
   "execution_count": null,
   "metadata": {},
   "outputs": [],
   "source": []
  },
  {
   "cell_type": "code",
   "execution_count": null,
   "metadata": {},
   "outputs": [],
   "source": []
  },
  {
   "cell_type": "code",
   "execution_count": null,
   "metadata": {},
   "outputs": [],
   "source": []
  },
  {
   "cell_type": "code",
   "execution_count": null,
   "metadata": {
    "collapsed": true
   },
   "outputs": [],
   "source": []
  }
 ],
 "metadata": {
  "kernelspec": {
   "display_name": "Python 3",
   "language": "python",
   "name": "python3"
  },
  "language_info": {
   "codemirror_mode": {
    "name": "ipython",
    "version": 3
   },
   "file_extension": ".py",
   "mimetype": "text/x-python",
   "name": "python",
   "nbconvert_exporter": "python",
   "pygments_lexer": "ipython3",
   "version": "3.6.5"
  }
 },
 "nbformat": 4,
 "nbformat_minor": 2
}
